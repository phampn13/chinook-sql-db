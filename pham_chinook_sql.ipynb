{
 "cells": [
  {
   "cell_type": "markdown",
   "id": "981211d7",
   "metadata": {},
   "source": [
    "### Load the \"Chinook_Sqlite.sqlite\" database and verify the connection."
   ]
  },
  {
   "cell_type": "code",
   "execution_count": 1,
   "id": "6ab18202",
   "metadata": {},
   "outputs": [
    {
     "name": "stdout",
     "output_type": "stream",
     "text": [
      "Total of albums: 347\n"
     ]
    }
   ],
   "source": [
    "import sqlite3\n",
    "\n",
    "# Open the chinook database connection\n",
    "# https://www.kaggle.com/datasets/ranasabrii/chinook?resource=download\n",
    "conn = sqlite3.connect('./Chinook_Sqlite.sqlite')\n",
    "\n",
    "# Create a command from the conn\n",
    "cursor = conn.cursor()\n",
    "\n",
    "# Execute SQL query\n",
    "cursor.execute(\"SELECT COUNT(*) FROM album\")\n",
    "\n",
    "# Get result (one)\n",
    "count_result  = cursor.fetchone()\n",
    "\n",
    "print(f\"Total of albums: {count_result[0]}\")\n",
    "\n",
    "cursor.close();"
   ]
  },
  {
   "cell_type": "markdown",
   "id": "97da74d1",
   "metadata": {},
   "source": [
    "### Function to print a structure of a SQLite table"
   ]
  },
  {
   "cell_type": "code",
   "execution_count": 2,
   "id": "33417bc8",
   "metadata": {},
   "outputs": [],
   "source": [
    "def table_info(table_name):\n",
    "    cursor = conn.cursor()\n",
    "\n",
    "    # SQLite PRAGMA table_info(table) returns a list of columns in the table\n",
    "    cursor.execute(f\"PRAGMA table_info({table_name});\")\n",
    "\n",
    "    # Fetch all columns\n",
    "    cols = cursor.fetchall()\n",
    "\n",
    "    for column in cols:\n",
    "        print(column)\n",
    "\n",
    "    print()\n",
    "    cursor.close();\n"
   ]
  },
  {
   "cell_type": "code",
   "execution_count": 3,
   "id": "24f0cd89",
   "metadata": {},
   "outputs": [
    {
     "name": "stdout",
     "output_type": "stream",
     "text": [
      "(0, 'AlbumId', 'INTEGER', 1, None, 1)\n",
      "(1, 'Title', 'NVARCHAR(160)', 1, None, 0)\n",
      "(2, 'ArtistId', 'INTEGER', 1, None, 0)\n",
      "\n",
      "(0, 'TrackId', 'INTEGER', 1, None, 1)\n",
      "(1, 'Name', 'NVARCHAR(200)', 1, None, 0)\n",
      "(2, 'AlbumId', 'INTEGER', 0, None, 0)\n",
      "(3, 'MediaTypeId', 'INTEGER', 1, None, 0)\n",
      "(4, 'GenreId', 'INTEGER', 0, None, 0)\n",
      "(5, 'Composer', 'NVARCHAR(220)', 0, None, 0)\n",
      "(6, 'Milliseconds', 'INTEGER', 1, None, 0)\n",
      "(7, 'Bytes', 'INTEGER', 0, None, 0)\n",
      "(8, 'UnitPrice', 'NUMERIC(10,2)', 1, None, 0)\n",
      "\n"
     ]
    }
   ],
   "source": [
    "table_info('album')\n",
    "table_info('track')"
   ]
  },
  {
   "cell_type": "markdown",
   "id": "20d2a64d",
   "metadata": {},
   "source": [
    "### Retrieve all tracks from all albums."
   ]
  },
  {
   "cell_type": "code",
   "execution_count": 4,
   "id": "b4f0b1f0",
   "metadata": {},
   "outputs": [
    {
     "name": "stdout",
     "output_type": "stream",
     "text": [
      "All tracks from all albums. LIMIT 10\n",
      "...And Justice For All, Metal, 1893, Blackened, 0.99\n",
      "...And Justice For All, Metal, 1894, ...And Justice For All, 0.99\n",
      "...And Justice For All, Metal, 1895, Eye Of The Beholder, 0.99\n",
      "...And Justice For All, Metal, 1896, One, 0.99\n",
      "...And Justice For All, Metal, 1897, The Shortest Straw, 0.99\n",
      "...And Justice For All, Metal, 1898, Harvester Of Sorrow, 0.99\n",
      "...And Justice For All, Metal, 1899, The Frayed Ends Of Sanity, 0.99\n",
      "...And Justice For All, Metal, 1900, To Live Is To Die, 0.99\n",
      "...And Justice For All, Metal, 1901, Dyers Eve, 0.99\n",
      "20th Century Masters - The Millennium Collection: The Best of Scorpions, Rock, 3288, Rock You Like a Hurricane, 0.99\n",
      "\n"
     ]
    }
   ],
   "source": [
    "cursor = conn.cursor()\n",
    "\n",
    "cursor.execute(\"\"\"\n",
    "SELECT a.Title AS AlbumTitle,\n",
    "       g.Name AS GenreName,\n",
    "       t.TrackId, t.Name AS TrackName, t.UnitPrice\n",
    "FROM track AS t\n",
    "INNER JOIN album AS a ON t.AlbumId = a.AlbumId\n",
    "INNER JOIN Genre AS g ON t.GenreId = g.GenreId\n",
    "INNER JOIN MediaType AS mt ON t.MediaTypeId = mt.MediaTypeId\n",
    "ORDER BY a.Title\n",
    "LIMIT 10\n",
    "\"\"\")\n",
    "\n",
    "# Fetch all records\n",
    "records = cursor.fetchall()\n",
    "\n",
    "print(\"All tracks from all albums. LIMIT 10\")\n",
    "\n",
    "for rec in records:\n",
    "    # 0: AlbumTitle, 1: GenreName, ...\n",
    "    print(f\"{rec[0]}, {rec[1]}, {rec[2]}, {rec[3]}, {rec[4]}\")\n",
    "\n",
    "print()\n",
    "cursor.close();\n"
   ]
  },
  {
   "cell_type": "markdown",
   "id": "2cb71f62",
   "metadata": {},
   "source": [
    "### Find all albums that have at least 20 tracks."
   ]
  },
  {
   "cell_type": "code",
   "execution_count": 5,
   "id": "c3ff3302",
   "metadata": {},
   "outputs": [
    {
     "name": "stdout",
     "output_type": "stream",
     "text": [
      "All albums that have at least 20 tracks\n",
      "AlbumId=37, AlbumTitle=Greatest Kiss, TotalTracks=20\n",
      "AlbumId=54, AlbumTitle=Chronicle, Vol. 1, TotalTracks=20\n",
      "AlbumId=55, AlbumTitle=Chronicle, Vol. 2, TotalTracks=20\n",
      "AlbumId=115, AlbumTitle=Sex Machine, TotalTracks=20\n",
      "AlbumId=221, AlbumTitle=My Generation - The Very Best Of The Who, TotalTracks=20\n",
      "AlbumId=39, AlbumTitle=International Superhits, TotalTracks=21\n",
      "AlbumId=167, AlbumTitle=Acústico MTV, TotalTracks=21\n",
      "AlbumId=51, AlbumTitle=Up An' Atom, TotalTracks=22\n",
      "AlbumId=224, AlbumTitle=Acústico, TotalTracks=22\n",
      "AlbumId=250, AlbumTitle=The Office, Season 2, TotalTracks=22\n",
      "AlbumId=24, AlbumTitle=Afrociberdelia, TotalTracks=23\n",
      "AlbumId=228, AlbumTitle=Heroes, Season 1, TotalTracks=23\n",
      "AlbumId=255, AlbumTitle=Instant Karma: The Amnesty International Campaign to Save Darfur, TotalTracks=23\n",
      "AlbumId=83, AlbumTitle=My Way: The Best Of Frank Sinatra [Disc 1], TotalTracks=24\n",
      "AlbumId=231, AlbumTitle=Lost, Season 2, TotalTracks=24\n",
      "AlbumId=253, AlbumTitle=Battlestar Galactica (Classic), Season 1, TotalTracks=24\n",
      "AlbumId=230, AlbumTitle=Lost, Season 1, TotalTracks=25\n",
      "AlbumId=251, AlbumTitle=The Office, Season 3, TotalTracks=25\n",
      "AlbumId=229, AlbumTitle=Lost, Season 3, TotalTracks=26\n",
      "AlbumId=73, AlbumTitle=Unplugged, TotalTracks=30\n",
      "AlbumId=23, AlbumTitle=Minha Historia, TotalTracks=34\n",
      "AlbumId=141, AlbumTitle=Greatest Hits, TotalTracks=57\n",
      "\n"
     ]
    }
   ],
   "source": [
    "cursor = conn.cursor()\n",
    "\n",
    "cursor.execute(\"\"\"\n",
    "SELECT a.AlbumId,\n",
    "       a.Title AS AlbumTitle,\n",
    "       COUNT(t.TrackId) AS TotalTracks\n",
    "FROM Track AS t\n",
    "INNER JOIN album AS a ON t.AlbumId = a.AlbumId\n",
    "GROUP BY a.AlbumId, a.Title\n",
    "HAVING COUNT(t.TrackId) >= 20\n",
    "ORDER BY TotalTracks\n",
    "\"\"\")\n",
    "\n",
    "# Fetch all records\n",
    "records = cursor.fetchall()\n",
    "\n",
    "print(\"All albums that have at least 20 tracks\")\n",
    "\n",
    "for rec in records:\n",
    "    print(f\"AlbumId={rec[0]}, AlbumTitle={rec[1]}, TotalTracks={rec[2]}\")\n",
    "\n",
    "print()\n",
    "cursor.close();"
   ]
  },
  {
   "cell_type": "markdown",
   "id": "3bade3fc",
   "metadata": {},
   "source": [
    "### List all albums and their average track unit prices. Sort the results by average track unit prices in descending order."
   ]
  },
  {
   "cell_type": "code",
   "execution_count": 6,
   "id": "fb66b6e9",
   "metadata": {},
   "outputs": [
    {
     "name": "stdout",
     "output_type": "stream",
     "text": [
      "All albums and their average track unit prices\n",
      "AlbumId=226, AlbumTitle=Battlestar Galactica: The Story So Far, AVGTrackPrice=$1.99\n",
      "AlbumId=227, AlbumTitle=Battlestar Galactica, Season 3, AVGTrackPrice=$1.99\n",
      "AlbumId=228, AlbumTitle=Heroes, Season 1, AVGTrackPrice=$1.99\n",
      "AlbumId=229, AlbumTitle=Lost, Season 3, AVGTrackPrice=$1.99\n",
      "AlbumId=230, AlbumTitle=Lost, Season 1, AVGTrackPrice=$1.99\n",
      "AlbumId=231, AlbumTitle=Lost, Season 2, AVGTrackPrice=$1.99\n",
      "AlbumId=249, AlbumTitle=The Office, Season 1, AVGTrackPrice=$1.99\n",
      "AlbumId=250, AlbumTitle=The Office, Season 2, AVGTrackPrice=$1.99\n",
      "AlbumId=251, AlbumTitle=The Office, Season 3, AVGTrackPrice=$1.99\n",
      "AlbumId=253, AlbumTitle=Battlestar Galactica (Classic), Season 1, AVGTrackPrice=$1.99\n",
      "\n"
     ]
    }
   ],
   "source": [
    "cursor = conn.cursor()\n",
    "\n",
    "cursor.execute(\"\"\"\n",
    "SELECT a.AlbumId,\n",
    "       a.Title AS AlbumTitle,\n",
    "       ROUND( AVG(t.UnitPrice), 2) AS AVGTrackPrice\n",
    "FROM track AS t\n",
    "INNER JOIN album AS a ON t.AlbumId = a.AlbumId\n",
    "GROUP BY a.AlbumId, a.Title\n",
    "ORDER BY AVGTrackPrice DESC\n",
    "LIMIT 10\n",
    "\"\"\")\n",
    "\n",
    "# Fetch all records\n",
    "records = cursor.fetchall()\n",
    "\n",
    "print(\"All albums and their average track unit prices\")\n",
    "\n",
    "for rec in records:\n",
    "    print(f\"AlbumId={rec[0]}, AlbumTitle={rec[1]}, AVGTrackPrice=${rec[2]}\")\n",
    "\n",
    "print()\n",
    "cursor.close();\n"
   ]
  },
  {
   "cell_type": "code",
   "execution_count": 7,
   "id": "b43caac1",
   "metadata": {},
   "outputs": [
    {
     "name": "stdout",
     "output_type": "stream",
     "text": [
      "(0, 'InvoiceId', 'INTEGER', 1, None, 1)\n",
      "(1, 'CustomerId', 'INTEGER', 1, None, 0)\n",
      "(2, 'InvoiceDate', 'DATETIME', 1, None, 0)\n",
      "(3, 'BillingAddress', 'NVARCHAR(70)', 0, None, 0)\n",
      "(4, 'BillingCity', 'NVARCHAR(40)', 0, None, 0)\n",
      "(5, 'BillingState', 'NVARCHAR(40)', 0, None, 0)\n",
      "(6, 'BillingCountry', 'NVARCHAR(40)', 0, None, 0)\n",
      "(7, 'BillingPostalCode', 'NVARCHAR(10)', 0, None, 0)\n",
      "(8, 'Total', 'NUMERIC(10,2)', 1, None, 0)\n",
      "\n",
      "(0, 'InvoiceLineId', 'INTEGER', 1, None, 1)\n",
      "(1, 'InvoiceId', 'INTEGER', 1, None, 0)\n",
      "(2, 'TrackId', 'INTEGER', 1, None, 0)\n",
      "(3, 'UnitPrice', 'NUMERIC(10,2)', 1, None, 0)\n",
      "(4, 'Quantity', 'INTEGER', 1, None, 0)\n",
      "\n"
     ]
    }
   ],
   "source": [
    "table_info('Invoice')\n",
    "table_info('InvoiceLine')"
   ]
  },
  {
   "cell_type": "markdown",
   "id": "24098e18",
   "metadata": {},
   "source": [
    "### Query the top 10 albums with the highest total number of sold tracks."
   ]
  },
  {
   "cell_type": "code",
   "execution_count": 8,
   "id": "e22412f0",
   "metadata": {},
   "outputs": [
    {
     "name": "stdout",
     "output_type": "stream",
     "text": [
      "Top 10 albums with the highest total number of sold tracks\n",
      "AlbumId=23, AlbumTitle=Minha Historia, SoldTracks=27\n",
      "AlbumId=141, AlbumTitle=Greatest Hits, SoldTracks=26\n",
      "AlbumId=73, AlbumTitle=Unplugged, SoldTracks=25\n",
      "AlbumId=224, AlbumTitle=Acústico, SoldTracks=22\n",
      "AlbumId=37, AlbumTitle=Greatest Kiss, SoldTracks=20\n",
      "AlbumId=21, AlbumTitle=Prenda Minha, SoldTracks=19\n",
      "AlbumId=55, AlbumTitle=Chronicle, Vol. 2, SoldTracks=19\n",
      "AlbumId=221, AlbumTitle=My Generation - The Very Best Of The Who, SoldTracks=19\n",
      "AlbumId=39, AlbumTitle=International Superhits, SoldTracks=18\n",
      "AlbumId=54, AlbumTitle=Chronicle, Vol. 1, SoldTracks=18\n",
      "\n"
     ]
    }
   ],
   "source": [
    "cursor = conn.cursor()\n",
    "\n",
    "cursor.execute(\"\"\"\n",
    "SELECT a.AlbumId,\n",
    "       a.Title AS AlbumTitle,\n",
    "       COUNT(*) AS SoldTracks\n",
    "FROM InvoiceLine AS il\n",
    "INNER JOIN Track AS t ON il.TrackId = t.TrackId\n",
    "INNER JOIN album AS a ON t.AlbumId = a.AlbumId\n",
    "GROUP BY a.AlbumId, a.Title\n",
    "ORDER BY COUNT(*) DESC\n",
    "LIMIT 10\n",
    "\"\"\")\n",
    "\n",
    "# Fetch all records\n",
    "records = cursor.fetchall()\n",
    "\n",
    "print(\"Top 10 albums with the highest total number of sold tracks\")\n",
    "\n",
    "for rec in records:\n",
    "    print(f\"AlbumId={rec[0]}, AlbumTitle={rec[1]}, SoldTracks={rec[2]}\")\n",
    "\n",
    "print()\n",
    "cursor.close();\n"
   ]
  },
  {
   "cell_type": "markdown",
   "id": "ed7abfb7",
   "metadata": {},
   "source": [
    "### Find all albums that have no sales."
   ]
  },
  {
   "cell_type": "code",
   "execution_count": 9,
   "id": "f0d5f901",
   "metadata": {},
   "outputs": [
    {
     "name": "stdout",
     "output_type": "stream",
     "text": [
      "All albums that have no sales\n",
      "AlbumId=226, AlbumTitle=Battlestar Galactica: The Story So Far\n",
      "AlbumId=260, AlbumTitle=Cake: B-Sides and Rarities\n",
      "AlbumId=262, AlbumTitle=Quiet Songs\n",
      "AlbumId=264, AlbumTitle=Realize\n",
      "AlbumId=267, AlbumTitle=Worlds\n",
      "AlbumId=268, AlbumTitle=The Best of Beethoven\n",
      "AlbumId=272, AlbumTitle=Adorate Deum: Gregorian Chant from the Proper of the Mass\n",
      "AlbumId=273, AlbumTitle=Allegri: Miserere\n",
      "AlbumId=275, AlbumTitle=Vivaldi: The Four Seasons\n",
      "AlbumId=276, AlbumTitle=Bach: Violin Concertos\n",
      "AlbumId=277, AlbumTitle=Bach: Goldberg Variations\n",
      "AlbumId=281, AlbumTitle=Sir Neville Marriner: A Celebration\n",
      "AlbumId=282, AlbumTitle=Mozart: Wind Concertos\n",
      "AlbumId=284, AlbumTitle=Beethoven: Symhonies Nos. 5 & 6\n",
      "AlbumId=285, AlbumTitle=A Soprano Inspired\n",
      "AlbumId=286, AlbumTitle=Great Opera Choruses\n",
      "AlbumId=289, AlbumTitle=Tchaikovsky: The Nutcracker\n",
      "AlbumId=290, AlbumTitle=The Last Night of the Proms\n",
      "AlbumId=291, AlbumTitle=Puccini: Madama Butterfly - Highlights\n",
      "AlbumId=293, AlbumTitle=Pavarotti's Opera Made Easy\n",
      "AlbumId=294, AlbumTitle=Great Performances - Barber's Adagio and Other Romantic Favorites for Strings\n",
      "AlbumId=295, AlbumTitle=Carmina Burana\n",
      "AlbumId=296, AlbumTitle=A Copland Celebration, Vol. I\n",
      "AlbumId=297, AlbumTitle=Bach: Toccata & Fugue in D Minor\n",
      "AlbumId=298, AlbumTitle=Prokofiev: Symphony No.1\n",
      "AlbumId=302, AlbumTitle=Mascagni: Cavalleria Rusticana\n",
      "AlbumId=305, AlbumTitle=Great Recordings of the Century - Mahler: Das Lied von der Erde\n",
      "AlbumId=309, AlbumTitle=Palestrina: Missa Papae Marcelli & Allegri: Miserere\n",
      "AlbumId=311, AlbumTitle=Strauss: Waltzes\n",
      "AlbumId=313, AlbumTitle=Bizet: Carmen Highlights\n",
      "AlbumId=315, AlbumTitle=Handel: Music for the Royal Fireworks (Original Version 1749)\n",
      "AlbumId=317, AlbumTitle=Mozart Gala: Famous Arias\n",
      "AlbumId=318, AlbumTitle=SCRIABIN: Vers la flamme\n",
      "AlbumId=319, AlbumTitle=Armada: Music from the Courts of England and Spain\n",
      "AlbumId=328, AlbumTitle=Charpentier: Divertissements, Airs & Concerts\n",
      "AlbumId=332, AlbumTitle=The Ultimate Relexation Album\n",
      "AlbumId=336, AlbumTitle=Prokofiev: Symphony No.5 & Stravinksy: Le Sacre Du Printemps\n",
      "AlbumId=339, AlbumTitle=Great Recordings of the Century: Paganini's 24 Caprices\n",
      "AlbumId=341, AlbumTitle=Great Recordings of the Century - Shubert: Schwanengesang, 4 Lieder\n",
      "AlbumId=342, AlbumTitle=Locatelli: Concertos for Violin, Strings and Continuo, Vol. 3\n",
      "AlbumId=345, AlbumTitle=Monteverdi: L'Orfeo\n",
      "AlbumId=346, AlbumTitle=Mozart: Chamber Music\n",
      "AlbumId=347, AlbumTitle=Koyaanisqatsi (Soundtrack from the Motion Picture)\n",
      "\n"
     ]
    }
   ],
   "source": [
    "cursor = conn.cursor()\n",
    "\n",
    "cursor.execute(\"\"\"\n",
    "SELECT a.AlbumId,\n",
    "       a.Title AS AlbumTitle\n",
    "FROM album AS a\n",
    "WHERE NOT EXISTS (\n",
    "   SELECT il.* FROM InvoiceLine AS il\n",
    "   INNER JOIN Track AS t ON il.TrackID = t.TrackID\n",
    "   WHERE t.AlbumId = a.AlbumID -- Join with the outer query via AlbumID\n",
    ")\n",
    "\"\"\")\n",
    "\n",
    "# Fetch all records\n",
    "records = cursor.fetchall()\n",
    "\n",
    "print(\"All albums that have no sales\")\n",
    "\n",
    "for rec in records:\n",
    "    print(f\"AlbumId={rec[0]}, AlbumTitle={rec[1]}\")\n",
    "\n",
    "print()\n",
    "cursor.close();"
   ]
  },
  {
   "cell_type": "code",
   "execution_count": 10,
   "id": "2307fa05",
   "metadata": {},
   "outputs": [],
   "source": [
    "# Close the conn\n",
    "# conn.close()"
   ]
  },
  {
   "cell_type": "code",
   "execution_count": null,
   "id": "371251df",
   "metadata": {},
   "outputs": [],
   "source": []
  }
 ],
 "metadata": {
  "kernelspec": {
   "display_name": "Python 3 (ipykernel)",
   "language": "python",
   "name": "python3"
  },
  "language_info": {
   "codemirror_mode": {
    "name": "ipython",
    "version": 3
   },
   "file_extension": ".py",
   "mimetype": "text/x-python",
   "name": "python",
   "nbconvert_exporter": "python",
   "pygments_lexer": "ipython3",
   "version": "3.9.16"
  }
 },
 "nbformat": 4,
 "nbformat_minor": 5
}
